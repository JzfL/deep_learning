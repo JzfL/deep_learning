{
 "cells": [
  {
   "cell_type": "markdown",
   "id": "ba8ab56f",
   "metadata": {},
   "source": [
    "# Advanced Image Classification with ImageNet"
   ]
  },
  {
   "cell_type": "markdown",
   "id": "7c630244b8fe2847",
   "metadata": {
    "collapsed": false
   },
   "source": [
    "In this assignment, you will be asked to develop a convolutional neural network (CNN) to classify images from the CIFAR-100 dataset. At each step, you'll be guided through the process of developing a model architecture to solve a problem. Your goal is to create a CNN that attains at least 55% accuracy on the validation set.\n",
    "\n",
    "### The CIFAR-100 Dataset\n",
    "\n",
    "The [CIFAR-100 dataset](https://www.cs.toronto.edu/~kriz/cifar.html) consists of 60000 32x32 colour images in 100 classes, with 600 images per class. There are 50000 training images and 10000 test images. The dataset is divided into five training batches and one test batch, each with 10000 images. The test batch contains exactly 1000 randomly-selected images from each class. The training batches contain the remaining images in random order, but some training batches may contain more images from one class than another. Between them, the training batches contain exactly 500 images from each class.\n",
    "\n",
    "### Tools\n",
    "\n",
    "You will use Keras with TensorFlow to develop your CNN. For this assignment, it's strongly recommended that you use a GPU to accelerate your training, or else you might find it difficult to train your network in a reasonable amount of time. If you have a computer with a GPU that you wish to use, you can follow the [TensorFlow instructions](https://www.tensorflow.org/install/) for installing TensorFlow with GPU support. Otherwise, you can use [Google Colab](https://colab.research.google.com/) to complete this assignment. Colab provides free access to GPU-enabled machines. If you run into any issues, please contact us as soon as possible so that we can help you resolve them."
   ]
  },
  {
   "cell_type": "markdown",
   "id": "fab62988ece1528d",
   "metadata": {
    "collapsed": false
   },
   "source": [
    "## Task 1: Data Exploration and Preprocessing (Complete or Incomplete)\n",
    "### 1a: Load and Explore the Dataset\n",
    "- Use the code below to download the dataset.\n",
    "- Explore the dataset: examine the shape of the training and test sets, the dimensions of the images, and the number of classes. Show a few examples from the training set."
   ]
  },
  {
   "cell_type": "code",
   "execution_count": 1,
   "id": "8820fcdc5ae52ae2",
   "metadata": {
    "ExecuteTime": {
     "start_time": "2024-01-26T17:04:08.432758Z"
    },
    "collapsed": false,
    "is_executing": true
   },
   "outputs": [
    {
     "name": "stderr",
     "output_type": "stream",
     "text": [
      "a:\\Anaconda3\\lib\\site-packages\\scipy\\__init__.py:146: UserWarning: A NumPy version >=1.16.5 and <1.23.0 is required for this version of SciPy (detected version 1.23.3\n",
      "  warnings.warn(f\"A NumPy version >={np_minversion} and <{np_maxversion}\"\n"
     ]
    }
   ],
   "source": [
    "from keras.datasets import cifar100\n",
    "\n",
    "# Load the CIFAR-100 dataset\n",
    "(x_train, y_train), (x_test, y_test) = cifar100.load_data(label_mode='fine')"
   ]
  },
  {
   "cell_type": "code",
   "execution_count": 2,
   "id": "a386b4072078138f",
   "metadata": {
    "collapsed": false
   },
   "outputs": [
    {
     "name": "stdout",
     "output_type": "stream",
     "text": [
      "x_train shape: (50000, 32, 32, 3)\n",
      "y_train shape: (50000, 1)\n",
      "x_test shape: (10000, 32, 32, 3)\n",
      "y_test shape: (10000, 1)\n",
      "Number of classes: 100\n"
     ]
    },
    {
     "data": {
      "image/png": "[encoded data removed]",
      "text/plain": [
       "<Figure size 720x144 with 5 Axes>"
      ]
     },
     "metadata": {
      "needs_background": "light"
     },
     "output_type": "display_data"
    }
   ],
   "source": [
    "# Your code here\n",
    "import matplotlib.pyplot as plt\n",
    "import numpy as np\n",
    "\n",
    "print(f\"x_train shape: {x_train.shape}\")\n",
    "print(f\"y_train shape: {y_train.shape}\")\n",
    "print(f\"x_test shape: {x_test.shape}\")\n",
    "print(f\"y_test shape: {y_test.shape}\")\n",
    "\n",
    "num_classes = len(np.unique(y_train))\n",
    "print(f\"Number of classes: {num_classes}\")\n",
    "\n",
    "def plot_examples(images, labels, class_names, num_examples=5):\n",
    "    plt.figure(figsize=(10, 2))\n",
    "    for i in range(num_examples):\n",
    "        plt.subplot(1, num_examples, i + 1)\n",
    "        plt.imshow(images[i])\n",
    "        plt.title(class_names[labels[i][0]])\n",
    "        plt.axis('off')\n",
    "    plt.show()\n",
    "\n",
    "# CIFAR-100 class names reference: https://www.cs.toronto.edu/~kriz/cifar.html\n",
    "fine_label_names = [\n",
    "    'apple', 'aquarium_fish', 'baby', 'bear', 'beaver', 'bed', 'bee', 'beetle', 'bicycle', 'bottle', 'bowl', 'boy',\n",
    "    'bridge', 'bus', 'butterfly', 'camel', 'can', 'castle', 'caterpillar', 'cattle', 'chair', 'chimpanzee', 'clock',\n",
    "    'cloud', 'cockroach', 'couch', 'crab', 'crocodile', 'cup', 'dinosaur', 'dolphin', 'elephant', 'flatfish', 'forest',\n",
    "    'fox', 'girl', 'hamster', 'house', 'kangaroo', 'keyboard', 'lamp', 'lawn_mower', 'leopard', 'lion', 'lizard',\n",
    "    'lobster', 'man', 'maple_tree', 'motorcycle', 'mountain', 'mouse', 'mushroom', 'oak_tree', 'orange', 'orchid',\n",
    "    'otter', 'palm_tree', 'pear', 'pickup_truck', 'pine_tree', 'plain', 'plate', 'poppy', 'porcupine', 'possum', 'rabbit',\n",
    "    'raccoon', 'ray', 'road', 'rocket', 'rose', 'sea', 'seal', 'shark', 'shrew', 'skunk', 'skyscraper', 'snail', 'snake',\n",
    "    'spider', 'squirrel', 'streetcar', 'sunflower', 'sweet_pepper', 'table', 'tank', 'telephone', 'television', 'tiger',\n",
    "    'tractor', 'train', 'trout', 'tulip', 'turtle', 'wardrobe', 'whale', 'willow_tree', 'wolf', 'woman', 'worm'\n",
    "]\n",
    "\n",
    "plot_examples(x_train, y_train, fine_label_names)\n"
   ]
  },
  {
   "cell_type": "markdown",
   "id": "ad49291da3a819ea",
   "metadata": {
    "collapsed": false
   },
   "source": [
    "### 1b: Data Preprocessing (4 Marks)\n",
    "- With the data downloaded, it's time to preprocess it. Start by normalizing the images so that they all have pixel values in the range [0, 1].\n",
    "- Next, convert the labels to one-hot encoded vectors.\n",
    "- Finally, split the training set into training and validation sets. Use 80% of the training set for training and the remaining 20% for validation."
   ]
  },
  {
   "cell_type": "code",
   "execution_count": 3,
   "id": "b18c10172fa72d0c",
   "metadata": {
    "collapsed": false
   },
   "outputs": [
    {
     "name": "stdout",
     "output_type": "stream",
     "text": [
      "x_train shape: (40000, 32, 32, 3)\n",
      "y_train shape: (40000, 100)\n",
      "x_val shape: (10000, 32, 32, 3)\n",
      "y_val shape: (10000, 100)\n",
      "x_test shape: (10000, 32, 32, 3)\n",
      "y_test shape: (10000, 100)\n"
     ]
    }
   ],
   "source": [
    "# Your code here\n",
    "from sklearn.model_selection import train_test_split\n",
    "from tensorflow.keras.utils import to_categorical\n",
    "\n",
    "x_train = x_train.astype('float32') / 255\n",
    "x_test = x_test.astype('float32') / 255\n",
    "\n",
    "y_train = to_categorical(y_train, num_classes)\n",
    "y_test = to_categorical(y_test, num_classes)\n",
    "\n",
    "x_train, x_val, y_train, y_val = train_test_split(x_train, y_train, test_size=0.2, random_state=42)\n",
    "\n",
    "print(f\"x_train shape: {x_train.shape}\")\n",
    "print(f\"y_train shape: {y_train.shape}\")\n",
    "print(f\"x_val shape: {x_val.shape}\")\n",
    "print(f\"y_val shape: {y_val.shape}\")\n",
    "print(f\"x_test shape: {x_test.shape}\")\n",
    "print(f\"y_test shape: {y_test.shape}\")\n"
   ]
  },
  {
   "cell_type": "markdown",
   "id": "5993757f08c89db7",
   "metadata": {
    "collapsed": false
   },
   "source": [
    "## Task 2: Model Development (Complete or Incomplete)\n",
    "### Task 2a: Create a Baseline CNN Model\n",
    "- Design a CNN architecture. Your architecture should use convolutional layers, max pooling layers, and dense layers. You can use any number of layers, and you can experiment with different numbers of filters, filter sizes, strides, padding, etc. The design doesn't need to be perfect, but it should be unique to you.\n",
    "- Print out the model summary."
   ]
  },
  {
   "cell_type": "code",
   "execution_count": 5,
   "id": "c9edafdaf887b8d5",
   "metadata": {
    "collapsed": false
   },
   "outputs": [
    {
     "name": "stdout",
     "output_type": "stream",
     "text": [
      "Model: \"sequential_1\"\n",
      "_________________________________________________________________\n",
      " Layer (type)                Output Shape              Param #   \n",
      "=================================================================\n",
      " conv2d_3 (Conv2D)           (None, 30, 30, 32)        896       \n",
      "                                                                 \n",
      " max_pooling2d_3 (MaxPoolin  (None, 15, 15, 32)        0         \n",
      " g2D)                                                            \n",
      "                                                                 \n",
      " conv2d_4 (Conv2D)           (None, 13, 13, 64)        18496     \n",
      "                                                                 \n",
      " max_pooling2d_4 (MaxPoolin  (None, 6, 6, 64)          0         \n",
      " g2D)                                                            \n",
      "                                                                 \n",
      " conv2d_5 (Conv2D)           (None, 4, 4, 128)         73856     \n",
      "                                                                 \n",
      " max_pooling2d_5 (MaxPoolin  (None, 2, 2, 128)         0         \n",
      " g2D)                                                            \n",
      "                                                                 \n",
      " flatten_1 (Flatten)         (None, 512)               0         \n",
      "                                                                 \n",
      " dense_1 (Dense)             (None, 256)               131328    \n",
      "                                                                 \n",
      " dropout (Dropout)           (None, 256)               0         \n",
      "                                                                 \n",
      " dense_2 (Dense)             (None, 100)               25700     \n",
      "                                                                 \n",
      "=================================================================\n",
      "Total params: 250276 (977.64 KB)\n",
      "Trainable params: 250276 (977.64 KB)\n",
      "Non-trainable params: 0 (0.00 Byte)\n",
      "_________________________________________________________________\n"
     ]
    }
   ],
   "source": [
    "from keras.models import Sequential\n",
    "from keras.layers import Conv2D, MaxPooling2D, Flatten, Dense, Dropout\n",
    "\n",
    "# Your code here\n",
    "model = Sequential()\n",
    "\n",
    "model.add(Conv2D(32, (3, 3), activation='relu', input_shape=(32, 32, 3)))\n",
    "model.add(MaxPooling2D((2, 2)))\n",
    "\n",
    "model.add(Conv2D(64, (3, 3), activation='relu'))\n",
    "model.add(MaxPooling2D((2, 2)))\n",
    "\n",
    "model.add(Conv2D(128, (3, 3), activation='relu'))\n",
    "model.add(MaxPooling2D((2, 2)))\n",
    "\n",
    "model.add(Flatten())\n",
    "\n",
    "model.add(Dense(256, activation='relu'))\n",
    "model.add(Dropout(0.5))\n",
    "\n",
    "model.add(Dense(100, activation='softmax'))\n",
    "\n",
    "model.summary()"
   ]
  },
  {
   "cell_type": "markdown",
   "id": "546324c007c73db5",
   "metadata": {
    "collapsed": false
   },
   "source": [
    "### Task 2b: Compile the model\n",
    "\n",
    "- Select an appropriate loss function and optimizer for your model. These can be ones we have looked at already, or they can be different. \n",
    "- Briefly explain your choices (one or two sentences each).\n",
    "- <b>Loss function:</b> *categorial_crossentropy, great for classification tasks with more than two classes*\n",
    "- <b>Optimizer:</b> *Adam, it combines the advantage of two other extensions of stochastic gradient desent, AdaGrad and RMSProp*"
   ]
  },
  {
   "cell_type": "code",
   "execution_count": 12,
   "id": "ab39f4ba69d684e9",
   "metadata": {
    "collapsed": false
   },
   "outputs": [
    {
     "name": "stdout",
     "output_type": "stream",
     "text": [
      "Model: \"sequential_1\"\n",
      "_________________________________________________________________\n",
      " Layer (type)                Output Shape              Param #   \n",
      "=================================================================\n",
      " conv2d_3 (Conv2D)           (None, 30, 30, 32)        896       \n",
      "                                                                 \n",
      " max_pooling2d_3 (MaxPoolin  (None, 15, 15, 32)        0         \n",
      " g2D)                                                            \n",
      "                                                                 \n",
      " conv2d_4 (Conv2D)           (None, 13, 13, 64)        18496     \n",
      "                                                                 \n",
      " max_pooling2d_4 (MaxPoolin  (None, 6, 6, 64)          0         \n",
      " g2D)                                                            \n",
      "                                                                 \n",
      " conv2d_5 (Conv2D)           (None, 4, 4, 128)         73856     \n",
      "                                                                 \n",
      " max_pooling2d_5 (MaxPoolin  (None, 2, 2, 128)         0         \n",
      " g2D)                                                            \n",
      "                                                                 \n",
      " flatten_1 (Flatten)         (None, 512)               0         \n",
      "                                                                 \n",
      " dense_1 (Dense)             (None, 256)               131328    \n",
      "                                                                 \n",
      " dropout (Dropout)           (None, 256)               0         \n",
      "                                                                 \n",
      " dense_2 (Dense)             (None, 100)               25700     \n",
      "                                                                 \n",
      "=================================================================\n",
      "Total params: 250276 (977.64 KB)\n",
      "Trainable params: 250276 (977.64 KB)\n",
      "Non-trainable params: 0 (0.00 Byte)\n",
      "_________________________________________________________________\n"
     ]
    }
   ],
   "source": [
    "from keras import optimizers\n",
    "\n",
    "# Your code here\n",
    "from tensorflow.keras.optimizers import Adam\n",
    "\n",
    "model.compile(\n",
    "    loss='categorical_crossentropy',\n",
    "    optimizer=Adam(learning_rate=0.01),\n",
    "    metrics=['accuracy']\n",
    ")\n",
    "\n",
    "model.summary()"
   ]
  },
  {
   "cell_type": "markdown",
   "id": "653fba928413b9f6",
   "metadata": {
    "collapsed": false
   },
   "source": [
    "## Task 3: Model Training and Evaluation (Complete or Incomplete)\n",
    "### Task 3a: Train the Model\n",
    "\n",
    "- Train your model for an appropriate number of epochs. Explain your choice of the number of epochs used - you can change this number before submitting your assignment.\n",
    "- Use a batch size of 32.\n",
    "- Use the validation set for validation."
   ]
  },
  {
   "cell_type": "code",
   "execution_count": 14,
   "id": "9de74f274ad08546",
   "metadata": {
    "collapsed": false
   },
   "outputs": [
    {
     "name": "stdout",
     "output_type": "stream",
     "text": [
      "Epoch 1/15\n",
      "1250/1250 [==============================] - 25s 20ms/step - loss: 4.6104 - accuracy: 0.0097 - val_loss: 4.6097 - val_accuracy: 0.0105\n",
      "Epoch 2/15\n",
      "1250/1250 [==============================] - 24s 19ms/step - loss: 4.6101 - accuracy: 0.0094 - val_loss: 4.6108 - val_accuracy: 0.0086\n",
      "Epoch 3/15\n",
      "1250/1250 [==============================] - 24s 19ms/step - loss: 4.6101 - accuracy: 0.0094 - val_loss: 4.6100 - val_accuracy: 0.0100\n",
      "Epoch 4/15\n",
      "1250/1250 [==============================] - 25s 20ms/step - loss: 4.6107 - accuracy: 0.0092 - val_loss: 4.6114 - val_accuracy: 0.0088\n",
      "Epoch 5/15\n",
      "1250/1250 [==============================] - 24s 20ms/step - loss: 4.6104 - accuracy: 0.0093 - val_loss: 4.6097 - val_accuracy: 0.0089\n",
      "Epoch 6/15\n",
      "1250/1250 [==============================] - 25s 20ms/step - loss: 4.6106 - accuracy: 0.0093 - val_loss: 4.6106 - val_accuracy: 0.0088\n",
      "Epoch 7/15\n",
      "1250/1250 [==============================] - 24s 19ms/step - loss: 4.6107 - accuracy: 0.0090 - val_loss: 4.6102 - val_accuracy: 0.0088\n",
      "Epoch 8/15\n",
      "1250/1250 [==============================] - 24s 19ms/step - loss: 4.6104 - accuracy: 0.0095 - val_loss: 4.6112 - val_accuracy: 0.0087\n",
      "Epoch 9/15\n",
      "1250/1250 [==============================] - 24s 19ms/step - loss: 4.6102 - accuracy: 0.0095 - val_loss: 4.6101 - val_accuracy: 0.0101\n",
      "Epoch 10/15\n",
      "1250/1250 [==============================] - 24s 19ms/step - loss: 4.6104 - accuracy: 0.0093 - val_loss: 4.6106 - val_accuracy: 0.0107\n",
      "Epoch 11/15\n",
      "1250/1250 [==============================] - 24s 20ms/step - loss: 4.6105 - accuracy: 0.0089 - val_loss: 4.6104 - val_accuracy: 0.0089\n",
      "Epoch 12/15\n",
      "1250/1250 [==============================] - 24s 19ms/step - loss: 4.6103 - accuracy: 0.0097 - val_loss: 4.6120 - val_accuracy: 0.0102\n",
      "Epoch 13/15\n",
      "1250/1250 [==============================] - 25s 20ms/step - loss: 4.6109 - accuracy: 0.0092 - val_loss: 4.6098 - val_accuracy: 0.0088\n",
      "Epoch 14/15\n",
      "1250/1250 [==============================] - 24s 19ms/step - loss: 4.6105 - accuracy: 0.0101 - val_loss: 4.6099 - val_accuracy: 0.0087\n",
      "Epoch 15/15\n",
      "1250/1250 [==============================] - 24s 20ms/step - loss: 4.6105 - accuracy: 0.0094 - val_loss: 4.6094 - val_accuracy: 0.0089\n"
     ]
    }
   ],
   "source": [
    "# Your code here\n",
    "\n",
    "history = model.fit(\n",
    "    x_train, y_train,\n",
    "    epochs=15,  \n",
    "    batch_size=32,\n",
    "    validation_data=(x_val, y_val)\n",
    ")\n"
   ]
  },
  {
   "cell_type": "markdown",
   "id": "b48615c26b99d2e9",
   "metadata": {
    "collapsed": false
   },
   "source": [
    "### Task 3b: Accuracy and other relevant metrics on the test set\n",
    "\n",
    "- Report the accuracy of your model on the test set.\n",
    "- While accuracy is a good metric, there are many other ways to numerically evaluate a model. Report at least one other metric, and explain what it measures and how it is calculated.\n",
    "\n",
    "- <b>Accuracy:</b> *0.0100*\n",
    "- <b>Other metric:</b> *F1 Score*\n",
    "- <b>Reason for selection:</b> *F1 Score is the combination of precision and recall while giving a good balance between the two*\n",
    "- <b>Value of metric:</b> *0*\n",
    "- <b>Interpretation of metric value:</b> *It is mostly 0, which is extremely low accuracy*"
   ]
  },
  {
   "cell_type": "code",
   "execution_count": 17,
   "id": "f670665fda92fb0e",
   "metadata": {
    "ExecuteTime": {
     "end_time": "2024-01-26T17:49:39.016880Z",
     "start_time": "2024-01-26T17:49:39.012100Z"
    },
    "collapsed": false
   },
   "outputs": [
    {
     "name": "stdout",
     "output_type": "stream",
     "text": [
      "313/313 [==============================] - 2s 7ms/step - loss: 4.6084 - accuracy: 0.0100\n",
      "Test accuracy: 0.0100\n",
      "313/313 [==============================] - 2s 6ms/step\n",
      "               precision    recall  f1-score   support\n",
      "\n",
      "        apple       1.00      0.00      0.00       100\n",
      "aquarium_fish       1.00      0.00      0.00       100\n",
      "         baby       1.00      0.00      0.00       100\n",
      "         bear       1.00      0.00      0.00       100\n",
      "       beaver       1.00      0.00      0.00       100\n",
      "          bed       1.00      0.00      0.00       100\n",
      "          bee       1.00      0.00      0.00       100\n",
      "       beetle       1.00      0.00      0.00       100\n",
      "      bicycle       1.00      0.00      0.00       100\n",
      "       bottle       1.00      0.00      0.00       100\n",
      "         bowl       1.00      0.00      0.00       100\n",
      "          boy       1.00      0.00      0.00       100\n",
      "       bridge       1.00      0.00      0.00       100\n",
      "          bus       1.00      0.00      0.00       100\n",
      "    butterfly       1.00      0.00      0.00       100\n",
      "        camel       1.00      0.00      0.00       100\n",
      "          can       1.00      0.00      0.00       100\n",
      "       castle       1.00      0.00      0.00       100\n",
      "  caterpillar       1.00      0.00      0.00       100\n",
      "       cattle       1.00      0.00      0.00       100\n",
      "        chair       1.00      0.00      0.00       100\n",
      "   chimpanzee       1.00      0.00      0.00       100\n",
      "        clock       1.00      0.00      0.00       100\n",
      "        cloud       1.00      0.00      0.00       100\n",
      "    cockroach       1.00      0.00      0.00       100\n",
      "        couch       1.00      0.00      0.00       100\n",
      "         crab       1.00      0.00      0.00       100\n",
      "    crocodile       1.00      0.00      0.00       100\n",
      "          cup       1.00      0.00      0.00       100\n",
      "     dinosaur       1.00      0.00      0.00       100\n",
      "      dolphin       1.00      0.00      0.00       100\n",
      "     elephant       1.00      0.00      0.00       100\n",
      "     flatfish       1.00      0.00      0.00       100\n",
      "       forest       1.00      0.00      0.00       100\n",
      "          fox       1.00      0.00      0.00       100\n",
      "         girl       1.00      0.00      0.00       100\n",
      "      hamster       1.00      0.00      0.00       100\n",
      "        house       1.00      0.00      0.00       100\n",
      "     kangaroo       1.00      0.00      0.00       100\n",
      "     keyboard       1.00      0.00      0.00       100\n",
      "         lamp       1.00      0.00      0.00       100\n",
      "   lawn_mower       1.00      0.00      0.00       100\n",
      "      leopard       1.00      0.00      0.00       100\n",
      "         lion       1.00      0.00      0.00       100\n",
      "       lizard       1.00      0.00      0.00       100\n",
      "      lobster       1.00      0.00      0.00       100\n",
      "          man       1.00      0.00      0.00       100\n",
      "   maple_tree       1.00      0.00      0.00       100\n",
      "   motorcycle       1.00      0.00      0.00       100\n",
      "     mountain       1.00      0.00      0.00       100\n",
      "        mouse       1.00      0.00      0.00       100\n",
      "     mushroom       1.00      0.00      0.00       100\n",
      "     oak_tree       1.00      0.00      0.00       100\n",
      "       orange       1.00      0.00      0.00       100\n",
      "       orchid       1.00      0.00      0.00       100\n",
      "        otter       1.00      0.00      0.00       100\n",
      "    palm_tree       1.00      0.00      0.00       100\n",
      "         pear       1.00      0.00      0.00       100\n",
      " pickup_truck       1.00      0.00      0.00       100\n",
      "    pine_tree       1.00      0.00      0.00       100\n",
      "        plain       1.00      0.00      0.00       100\n",
      "        plate       1.00      0.00      0.00       100\n",
      "        poppy       1.00      0.00      0.00       100\n",
      "    porcupine       1.00      0.00      0.00       100\n",
      "       possum       1.00      0.00      0.00       100\n",
      "       rabbit       1.00      0.00      0.00       100\n",
      "      raccoon       1.00      0.00      0.00       100\n",
      "          ray       1.00      0.00      0.00       100\n",
      "         road       1.00      0.00      0.00       100\n",
      "       rocket       1.00      0.00      0.00       100\n",
      "         rose       1.00      0.00      0.00       100\n",
      "          sea       1.00      0.00      0.00       100\n",
      "         seal       1.00      0.00      0.00       100\n",
      "        shark       1.00      0.00      0.00       100\n",
      "        shrew       1.00      0.00      0.00       100\n",
      "        skunk       1.00      0.00      0.00       100\n",
      "   skyscraper       1.00      0.00      0.00       100\n",
      "        snail       1.00      0.00      0.00       100\n",
      "        snake       0.01      1.00      0.02       100\n",
      "       spider       1.00      0.00      0.00       100\n",
      "     squirrel       1.00      0.00      0.00       100\n",
      "    streetcar       1.00      0.00      0.00       100\n",
      "    sunflower       1.00      0.00      0.00       100\n",
      " sweet_pepper       1.00      0.00      0.00       100\n",
      "        table       1.00      0.00      0.00       100\n",
      "         tank       1.00      0.00      0.00       100\n",
      "    telephone       1.00      0.00      0.00       100\n",
      "   television       1.00      0.00      0.00       100\n",
      "        tiger       1.00      0.00      0.00       100\n",
      "      tractor       1.00      0.00      0.00       100\n",
      "        train       1.00      0.00      0.00       100\n",
      "        trout       1.00      0.00      0.00       100\n",
      "        tulip       1.00      0.00      0.00       100\n",
      "       turtle       1.00      0.00      0.00       100\n",
      "     wardrobe       1.00      0.00      0.00       100\n",
      "        whale       1.00      0.00      0.00       100\n",
      "  willow_tree       1.00      0.00      0.00       100\n",
      "         wolf       1.00      0.00      0.00       100\n",
      "        woman       1.00      0.00      0.00       100\n",
      "         worm       1.00      0.00      0.00       100\n",
      "\n",
      "     accuracy                           0.01     10000\n",
      "    macro avg       0.99      0.01      0.00     10000\n",
      " weighted avg       0.99      0.01      0.00     10000\n",
      "\n"
     ]
    }
   ],
   "source": [
    "# Your code here\n",
    "\n",
    "test_loss, test_accuracy = model.evaluate(x_test, y_test)\n",
    "print(f\"Test accuracy: {test_accuracy:.4f}\"),\n",
    "\n",
    "from sklearn.metrics import classification_report\n",
    "\n",
    "y_pred = model.predict(x_test)\n",
    "y_pred_classes = y_pred.argmax(axis=1)\n",
    "y_true = y_test.argmax(axis=1)\n",
    "\n",
    "report = classification_report(y_true, y_pred_classes, target_names=fine_label_names, zero_division=1)\n",
    "print(report)\n",
    "\n"
   ]
  },
  {
   "cell_type": "markdown",
   "id": "58d2d836d4e8ce99",
   "metadata": {
    "collapsed": false
   },
   "source": [
    "### Task 3c: Visualize the model's learning\n",
    "\n",
    "- Plot the training accuracy and validation accuracy with respect to epochs.\n",
    "- Select an image that the model correctly classified in the test set, and an image that the model incorrectly classified in the test set. Plot the images and report the model's classification probabilities for each.\n",
    "- Briefly discuss the results. What do the plots show? Do the results make sense? What do the classification probabilities indicate? <br>*The accuracy plot did not show improvments over each epoch. No, it does not make sense as the training is not making the model better. The classification probabilities is pretty high meaning the model is more likely to generate the wrong  types of classification*"
   ]
  },
  {
   "cell_type": "code",
   "execution_count": 19,
   "id": "c5b214475a496ca5",
   "metadata": {
    "ExecuteTime": {
     "end_time": "2024-01-26T17:50:59.733968Z",
     "start_time": "2024-01-26T17:50:59.730635Z"
    },
    "collapsed": false
   },
   "outputs": [
    {
     "data": {
      "image/png": "[encoded data removed]",
      "text/plain": [
       "<Figure size 432x288 with 1 Axes>"
      ]
     },
     "metadata": {
      "needs_background": "light"
     },
     "output_type": "display_data"
    },
    {
     "name": "stdout",
     "output_type": "stream",
     "text": [
      "313/313 [==============================] - 2s 6ms/step\n"
     ]
    },
    {
     "data": {
      "image/png": "[encoded data removed]",
      "text/plain": [
       "<Figure size 864x432 with 2 Axes>"
      ]
     },
     "metadata": {
      "needs_background": "light"
     },
     "output_type": "display_data"
    }
   ],
   "source": [
    "# Your code here\n",
    "\n",
    "plt.plot(history.history['accuracy'], label='Training Accuracy')\n",
    "plt.plot(history.history['val_accuracy'], label='Validation Accuracy')\n",
    "plt.xlabel('Epochs')\n",
    "plt.ylabel('Accuracy')\n",
    "plt.title('Training and Validation Accuracy')\n",
    "plt.legend()\n",
    "plt.show(),\n",
    "\n",
    "\n",
    "y_pred_probs = model.predict(x_test)\n",
    "y_pred_classes = y_pred_probs.argmax(axis=1)\n",
    "y_true_classes = y_test.argmax(axis=1)\n",
    "\n",
    "correct_indices = np.where(y_pred_classes == y_true_classes)[0]\n",
    "incorrect_indices = np.where(y_pred_classes != y_true_classes)[0]\n",
    "\n",
    "correct_idx = correct_indices[0]\n",
    "incorrect_idx = incorrect_indices[0]\n",
    "\n",
    "plt.figure(figsize=(12, 6))\n",
    "\n",
    "plt.subplot(1, 2, 1)\n",
    "plt.imshow(x_test[correct_idx])\n",
    "plt.title(f'Correctly Classified: {fine_label_names[y_true_classes[correct_idx]]}')\n",
    "plt.xlabel(f'Predicted: {fine_label_names[y_pred_classes[correct_idx]]}')\n",
    "plt.ylabel('Classification Probabilities')\n",
    "plt.bar(range(100), y_pred_probs[correct_idx])\n",
    "\n",
    "plt.subplot(1, 2, 2)\n",
    "plt.imshow(x_test[incorrect_idx])\n",
    "plt.title(f'Incorrectly Classified: {fine_label_names[y_true_classes[incorrect_idx]]}')\n",
    "plt.xlabel(f'Predicted: {fine_label_names[y_pred_classes[incorrect_idx]]}')\n",
    "plt.ylabel('Classification Probabilities')\n",
    "plt.bar(range(100), y_pred_probs[incorrect_idx])\n",
    "\n",
    "plt.tight_layout()\n",
    "plt.show()\n",
    "\n"
   ]
  },
  {
   "cell_type": "markdown",
   "id": "a648758ebea0561d",
   "metadata": {
    "collapsed": false
   },
   "source": [
    "## Task 4: Model Enhancement (Complete or Incomplete)\n",
    "### Task 4a: Implementation of at least one advanced technique\n",
    "\n",
    "- Now it's time to improve your model. Implement at least one technique to improve your model's performance. You can use any of the techniques we have covered in class, or you can use a technique that we haven't covered. If you need inspiration, you can refer to the [Keras documentation](https://keras.io/).\n",
    "- Explain the technique you used and why you chose it.\n",
    "- If you used a technique that requires tuning, explain how you selected the values for the hyperparameters."
   ]
  },
  {
   "cell_type": "code",
   "execution_count": 21,
   "id": "f3659ac83122567f",
   "metadata": {
    "collapsed": false
   },
   "outputs": [
    {
     "name": "stdout",
     "output_type": "stream",
     "text": [
      "Epoch 1/10\n",
      "1250/1250 [==============================] - 60s 47ms/step - loss: 4.3433 - accuracy: 0.0420 - val_loss: 3.9451 - val_accuracy: 0.0989\n",
      "Epoch 2/10\n",
      "1250/1250 [==============================] - 60s 48ms/step - loss: 3.9426 - accuracy: 0.0957 - val_loss: 3.6961 - val_accuracy: 0.1354\n",
      "Epoch 3/10\n",
      "1250/1250 [==============================] - 60s 48ms/step - loss: 3.7581 - accuracy: 0.1259 - val_loss: 3.5117 - val_accuracy: 0.1694\n",
      "Epoch 4/10\n",
      "1250/1250 [==============================] - 59s 47ms/step - loss: 3.6233 - accuracy: 0.1485 - val_loss: 3.3625 - val_accuracy: 0.1993\n",
      "Epoch 5/10\n",
      "1250/1250 [==============================] - 61s 49ms/step - loss: 3.4995 - accuracy: 0.1670 - val_loss: 3.2807 - val_accuracy: 0.2095\n",
      "Epoch 6/10\n",
      "1250/1250 [==============================] - 61s 49ms/step - loss: 3.4064 - accuracy: 0.1853 - val_loss: 3.1995 - val_accuracy: 0.2291\n",
      "Epoch 7/10\n",
      "1250/1250 [==============================] - 61s 49ms/step - loss: 3.3263 - accuracy: 0.1973 - val_loss: 3.0846 - val_accuracy: 0.2428\n",
      "Epoch 8/10\n",
      "1250/1250 [==============================] - 61s 49ms/step - loss: 3.2498 - accuracy: 0.2089 - val_loss: 3.0478 - val_accuracy: 0.2566\n",
      "Epoch 9/10\n",
      "1250/1250 [==============================] - 60s 48ms/step - loss: 3.1871 - accuracy: 0.2244 - val_loss: 2.9675 - val_accuracy: 0.2749\n",
      "Epoch 10/10\n",
      "1250/1250 [==============================] - 60s 48ms/step - loss: 3.1336 - accuracy: 0.2347 - val_loss: 2.9849 - val_accuracy: 0.2688\n"
     ]
    }
   ],
   "source": [
    "# Your code here\n",
    "from tensorflow.keras.preprocessing.image import ImageDataGenerator\n",
    "from tensorflow.keras.callbacks import EarlyStopping\n",
    "\n",
    "model = Sequential()\n",
    "\n",
    "model.add(Conv2D(64, (3, 3), activation='relu', input_shape=(32, 32, 3)))\n",
    "model.add(MaxPooling2D((2, 2)))\n",
    "\n",
    "model.add(Conv2D(128, (3, 3), activation='relu'))\n",
    "model.add(MaxPooling2D((2, 2)))\n",
    "\n",
    "model.add(Conv2D(256, (3, 3), activation='relu'))\n",
    "model.add(MaxPooling2D((2, 2)))\n",
    "\n",
    "model.add(Flatten())\n",
    "\n",
    "model.add(Dense(512, activation='relu'))\n",
    "model.add(Dropout(0.5))\n",
    "\n",
    "model.add(Dense(100, activation='softmax'))\n",
    "\n",
    "model.compile(\n",
    "    loss='categorical_crossentropy',\n",
    "    optimizer=Adam(learning_rate=0.0001), \n",
    "    metrics=['accuracy']\n",
    ")\n",
    "\n",
    "datagen = ImageDataGenerator(\n",
    "    rotation_range=15,\n",
    "    width_shift_range=0.1,\n",
    "    height_shift_range=0.1,\n",
    "    horizontal_flip=True\n",
    ")\n",
    "datagen.fit(x_train)\n",
    "\n",
    "early_stopping = EarlyStopping(monitor='val_loss', patience=5, restore_best_weights=True)\n",
    "\n",
    "# Train the model\n",
    "history = model.fit(\n",
    "    datagen.flow(x_train, y_train, batch_size=32),\n",
    "    epochs=10, \n",
    "    validation_data=(x_val, y_val), \n",
    "    callbacks=[early_stopping]\n",
    ")\n"
   ]
  },
  {
   "cell_type": "markdown",
   "id": "d9467a483a1dd5d3",
   "metadata": {
    "collapsed": false
   },
   "source": [
    "### Task 4b: Evaluation of the enhanced model\n",
    "\n",
    "- Re-train your model using the same number of epochs as before.\n",
    "- Compare the accuracy and other selected metric on the test set to the results you obtained before.\n",
    "- As before, plot the training accuracy and validation accuracy with respect to epochs, and select an image that the model correctly classified in the test set, and an image that the model incorrectly classified in the test set. Plot the images and report the model's classification probabilities for each."
   ]
  },
  {
   "cell_type": "code",
   "execution_count": 24,
   "id": "7c4701b36dc8fc55",
   "metadata": {
    "collapsed": false
   },
   "outputs": [
    {
     "name": "stdout",
     "output_type": "stream",
     "text": [
      "313/313 [==============================] - 4s 12ms/step - loss: 3.0060 - accuracy: 0.2656\n",
      "Test Accuracy: 0.2656\n",
      "313/313 [==============================] - 4s 12ms/step\n",
      "               precision    recall  f1-score   support\n",
      "\n",
      "        apple       0.59      0.68      0.63       100\n",
      "aquarium_fish       0.37      0.50      0.42       100\n",
      "         baby       0.25      0.19      0.22       100\n",
      "         bear       0.12      0.08      0.10       100\n",
      "       beaver       0.12      0.05      0.07       100\n",
      "          bed       0.20      0.22      0.21       100\n",
      "          bee       0.27      0.23      0.25       100\n",
      "       beetle       0.28      0.30      0.29       100\n",
      "      bicycle       0.12      0.28      0.17       100\n",
      "       bottle       0.49      0.24      0.32       100\n",
      "         bowl       0.12      0.01      0.02       100\n",
      "          boy       0.23      0.09      0.13       100\n",
      "       bridge       0.28      0.28      0.28       100\n",
      "          bus       0.13      0.44      0.20       100\n",
      "    butterfly       0.12      0.27      0.17       100\n",
      "        camel       0.17      0.18      0.18       100\n",
      "          can       0.24      0.20      0.22       100\n",
      "       castle       0.37      0.24      0.29       100\n",
      "  caterpillar       0.19      0.21      0.20       100\n",
      "       cattle       0.24      0.11      0.15       100\n",
      "        chair       0.36      0.45      0.40       100\n",
      "   chimpanzee       0.44      0.29      0.35       100\n",
      "        clock       0.16      0.16      0.16       100\n",
      "        cloud       0.57      0.48      0.52       100\n",
      "    cockroach       0.56      0.48      0.52       100\n",
      "        couch       0.35      0.17      0.23       100\n",
      "         crab       0.13      0.09      0.11       100\n",
      "    crocodile       0.20      0.18      0.19       100\n",
      "          cup       0.48      0.24      0.32       100\n",
      "     dinosaur       0.25      0.22      0.24       100\n",
      "      dolphin       0.35      0.44      0.39       100\n",
      "     elephant       0.29      0.27      0.28       100\n",
      "     flatfish       0.67      0.14      0.23       100\n",
      "       forest       0.31      0.28      0.30       100\n",
      "          fox       0.25      0.11      0.15       100\n",
      "         girl       0.39      0.11      0.17       100\n",
      "      hamster       0.40      0.19      0.26       100\n",
      "        house       0.16      0.26      0.20       100\n",
      "     kangaroo       0.15      0.07      0.09       100\n",
      "     keyboard       0.19      0.31      0.23       100\n",
      "         lamp       0.58      0.15      0.24       100\n",
      "   lawn_mower       0.52      0.51      0.51       100\n",
      "      leopard       0.09      0.10      0.09       100\n",
      "         lion       0.19      0.35      0.25       100\n",
      "       lizard       0.10      0.03      0.05       100\n",
      "      lobster       0.18      0.15      0.16       100\n",
      "          man       0.30      0.13      0.18       100\n",
      "   maple_tree       0.68      0.32      0.44       100\n",
      "   motorcycle       0.11      0.81      0.19       100\n",
      "     mountain       0.44      0.21      0.28       100\n",
      "        mouse       0.25      0.01      0.02       100\n",
      "     mushroom       0.17      0.12      0.14       100\n",
      "     oak_tree       0.47      0.81      0.60       100\n",
      "       orange       0.42      0.57      0.49       100\n",
      "       orchid       0.33      0.46      0.39       100\n",
      "        otter       0.00      0.00      0.00       100\n",
      "    palm_tree       0.39      0.36      0.37       100\n",
      "         pear       0.30      0.19      0.23       100\n",
      " pickup_truck       0.22      0.29      0.25       100\n",
      "    pine_tree       0.30      0.13      0.18       100\n",
      "        plain       0.58      0.69      0.63       100\n",
      "        plate       0.23      0.21      0.22       100\n",
      "        poppy       0.33      0.53      0.40       100\n",
      "    porcupine       0.24      0.14      0.18       100\n",
      "       possum       0.09      0.05      0.07       100\n",
      "       rabbit       0.16      0.04      0.06       100\n",
      "      raccoon       0.16      0.20      0.18       100\n",
      "          ray       0.31      0.21      0.25       100\n",
      "         road       0.60      0.60      0.60       100\n",
      "       rocket       0.43      0.47      0.45       100\n",
      "         rose       0.44      0.36      0.40       100\n",
      "          sea       0.59      0.51      0.55       100\n",
      "         seal       0.25      0.02      0.04       100\n",
      "        shark       0.35      0.38      0.36       100\n",
      "        shrew       0.20      0.04      0.07       100\n",
      "        skunk       0.30      0.61      0.40       100\n",
      "   skyscraper       0.85      0.35      0.50       100\n",
      "        snail       0.38      0.06      0.10       100\n",
      "        snake       0.08      0.16      0.11       100\n",
      "       spider       0.18      0.17      0.17       100\n",
      "     squirrel       0.13      0.02      0.03       100\n",
      "    streetcar       0.16      0.18      0.17       100\n",
      "    sunflower       0.40      0.85      0.54       100\n",
      " sweet_pepper       0.32      0.19      0.24       100\n",
      "        table       0.11      0.04      0.06       100\n",
      "         tank       0.42      0.29      0.34       100\n",
      "    telephone       0.28      0.36      0.32       100\n",
      "   television       0.18      0.18      0.18       100\n",
      "        tiger       0.12      0.46      0.19       100\n",
      "      tractor       0.23      0.45      0.31       100\n",
      "        train       0.27      0.19      0.22       100\n",
      "        trout       0.29      0.43      0.34       100\n",
      "        tulip       0.18      0.11      0.14       100\n",
      "       turtle       0.27      0.06      0.10       100\n",
      "     wardrobe       0.59      0.48      0.53       100\n",
      "        whale       0.36      0.40      0.38       100\n",
      "  willow_tree       0.25      0.19      0.22       100\n",
      "         wolf       0.12      0.18      0.14       100\n",
      "        woman       0.13      0.17      0.15       100\n",
      "         worm       0.19      0.09      0.12       100\n",
      "\n",
      "     accuracy                           0.27     10000\n",
      "    macro avg       0.29      0.27      0.25     10000\n",
      " weighted avg       0.29      0.27      0.25     10000\n",
      "\n"
     ]
    },
    {
     "data": {
      "image/png": "[encoded data removed]",
      "text/plain": [
       "<Figure size 432x288 with 1 Axes>"
      ]
     },
     "metadata": {
      "needs_background": "light"
     },
     "output_type": "display_data"
    },
    {
     "name": "stdout",
     "output_type": "stream",
     "text": [
      "313/313 [==============================] - 4s 12ms/step\n"
     ]
    },
    {
     "data": {
      "image/png": "[encoded data removed]",
      "text/plain": [
       "<Figure size 864x432 with 2 Axes>"
      ]
     },
     "metadata": {
      "needs_background": "light"
     },
     "output_type": "display_data"
    }
   ],
   "source": [
    "# Your code here\n",
    "test_loss, test_accuracy = model.evaluate(x_test, y_test, verbose=1)\n",
    "print(f\"Test Accuracy: {test_accuracy:.4f}\")\n",
    "\n",
    "y_pred_probs = model.predict(x_test)\n",
    "y_pred_classes = y_pred_probs.argmax(axis=1)\n",
    "y_true_classes = y_test.argmax(axis=1)\n",
    "\n",
    "from sklearn.metrics import classification_report\n",
    "print(classification_report(y_true_classes, y_pred_classes, target_names=fine_label_names, zero_division=0)),\n",
    "\n",
    "\n",
    "plt.plot(history.history['accuracy'], label='Training Accuracy')\n",
    "plt.plot(history.history['val_accuracy'], label='Validation Accuracy')\n",
    "plt.xlabel('Epochs')\n",
    "plt.ylabel('Accuracy')\n",
    "plt.title('Training and Validation Accuracy')\n",
    "plt.legend()\n",
    "plt.show(),\n",
    "\n",
    "\n",
    "y_pred_probs = model.predict(x_test)\n",
    "y_pred_classes = y_pred_probs.argmax(axis=1)\n",
    "y_true_classes = y_test.argmax(axis=1)\n",
    "\n",
    "correct_indices = np.where(y_pred_classes == y_true_classes)[0]\n",
    "incorrect_indices = np.where(y_pred_classes != y_true_classes)[0]\n",
    "\n",
    "correct_idx = correct_indices[0]\n",
    "incorrect_idx = incorrect_indices[0]\n",
    "\n",
    "plt.figure(figsize=(12, 6))\n",
    "\n",
    "plt.subplot(1, 2, 1)\n",
    "plt.imshow(x_test[correct_idx])\n",
    "plt.title(f'Correctly Classified: {fine_label_names[y_true_classes[correct_idx]]}')\n",
    "plt.xlabel(f'Predicted: {fine_label_names[y_pred_classes[correct_idx]]}')\n",
    "plt.ylabel('Classification Probabilities')\n",
    "plt.bar(range(100), y_pred_probs[correct_idx])\n",
    "\n",
    "plt.subplot(1, 2, 2)\n",
    "plt.imshow(x_test[incorrect_idx])\n",
    "plt.title(f'Incorrectly Classified: {fine_label_names[y_true_classes[incorrect_idx]]}')\n",
    "plt.xlabel(f'Predicted: {fine_label_names[y_pred_classes[incorrect_idx]]}')\n",
    "plt.ylabel('Classification Probabilities')\n",
    "plt.bar(range(100), y_pred_probs[incorrect_idx])\n",
    "\n",
    "plt.tight_layout()\n",
    "plt.show()\n",
    "\n",
    "\n"
   ]
  },
  {
   "cell_type": "markdown",
   "id": "eadfc848700215e8",
   "metadata": {
    "collapsed": false
   },
   "source": [
    "### Task 4c: Discussion of the results\n",
    "\n",
    "- Briefly discuss the results.\n",
    "- Did the model's performance improve? \n",
    "- Why do you think this is?\n",
    "- Do you think there is room for further improvement? Why or why not?\n",
    "- What other techniques might you try in the future?\n",
    "- Your answer should be no more than 200 words.\n",
    "\n",
    "# Your answer here\n",
    "<br>*Accuracy increased to 0.2656 while F1 Scores are mostly not 0's*\n",
    "<br>*So yes, the models performance did improve.*\n",
    "<br>*It worked better because of increased model complexity where we added more convolutional layers and increased the number of filters. In addition we used techniques like rotation, shifting to artifitially increase the diversity of the training data, we also experimented with differnt learning rates where it was reduced to 0.0001.*\n",
    "<br>*I believe there is still room for improvement as shown on the accuracy graph, by increasing number of epochs, it has the potential to increase, but we limited to 10 due to hardware constrain.*\n",
    "<br>*We can transfer some pre-trained learning model*"
   ]
  },
  {
   "cell_type": "markdown",
   "id": "7415f68f",
   "metadata": {},
   "source": [
    "## Criteria\n",
    "\n",
    "|Criteria|Complete|Incomplete|\n",
    "|----|----|----|\n",
    "|Task 1|The task has been completed successfully and there are no errors.|The task is still incomplete and there is at least one error.|\n",
    "|Task 2|The task has been completed successfully and there are no errors.|The task is still incomplete and there is at least one error.|\n",
    "|Task 3|The task has been completed successfully and there are no errors.|The task is still incomplete and there is at least one error.|\n",
    "|Task 4|The task has been completed successfully and there are no errors.|The task is still incomplete and there is at least one error.|"
   ]
  },
  {
   "cell_type": "markdown",
   "id": "ad0c10bc",
   "metadata": {},
   "source": [
    "## Submission Information\n",
    "\n",
    "🚨 **Please review our [Assignment Submission Guide](https://github.com/UofT-DSI/onboarding/blob/main/onboarding_documents/submissions.md)** 🚨 for detailed instructions on how to format, branch, and submit your work. Following these guidelines is crucial for your submissions to be evaluated correctly.\n",
    "\n",
    "### Submission Parameters:\n",
    "* Submission Due Date: `HH:MM AM/PM - DD/MM/YYYY`\n",
    "* The branch name for your repo should be: `assignment-1`\n",
    "* What to submit for this assignment:\n",
    "    * This Jupyter Notebook (assignment_1.ipynb) should be populated and should be the only change in your pull request.\n",
    "* What the pull request link should look like for this assignment: `https://github.com/<your_github_username>/deep_learning/pull/<pr_id>`\n",
    "    * Open a private window in your browser. Copy and paste the link to your pull request into the address bar. Make sure you can see your pull request properly. This helps the technical facilitator and learning support staff review your submission easily.\n",
    "\n",
    "Checklist:\n",
    "- [x] Created a branch with the correct naming convention.\n",
    "- [x] Ensured that the repository is public.\n",
    "- [x] Reviewed the PR description guidelines and adhered to them.\n",
    "- [x] Verify that the link is accessible in a private browser window.\n",
    "\n",
    "If you encounter any difficulties or have questions, please don't hesitate to reach out to our team via our Slack at `#cohort-3-help`. Our Technical Facilitators and Learning Support staff are here to help you navigate any challenges."
   ]
  }
 ],
 "metadata": {
  "kernelspec": {
   "display_name": "Python 3 (ipykernel)",
   "language": "python",
   "name": "python3"
  },
  "language_info": {
   "codemirror_mode": {
    "name": "ipython",
    "version": 3
   },
   "file_extension": ".py",
   "mimetype": "text/x-python",
   "name": "python",
   "nbconvert_exporter": "python",
   "pygments_lexer": "ipython3",
   "version": "3.9.7"
  }
 },
 "nbformat": 4,
 "nbformat_minor": 5
}
